{
 "cells": [
  {
   "cell_type": "markdown",
   "metadata": {},
   "source": [
    "# demo_02_segment_glas_patches"
   ]
  },
  {
   "cell_type": "markdown",
   "metadata": {},
   "source": [
    "A demonstration of running the GlaS set through HistoSegNet and evaluating the results qualitatively and quantitatively."
   ]
  },
  {
   "cell_type": "markdown",
   "metadata": {},
   "source": [
    "## Setup"
   ]
  },
  {
   "cell_type": "code",
   "execution_count": null,
   "metadata": {
    "scrolled": true
   },
   "outputs": [],
   "source": [
    "%matplotlib inline\n",
    "import hsn_v1\n",
    "import pandas as pd\n",
    "import matplotlib\n",
    "import numpy as np\n",
    "import matplotlib.pyplot as plt\n",
    "from tqdm import tqdm\n",
    "from hsn_v1.adp import Atlas\n",
    "from hsn_v1.utilities import *\n",
    "from hsn_v1.histonet import HistoNet\n",
    "from hsn_v1.gradcam import GradCAM\n",
    "from hsn_v1.densecrf import DenseCRF"
   ]
  },
  {
   "cell_type": "markdown",
   "metadata": {},
   "source": [
    "## Initialize HistoSegNet"
   ]
  },
  {
   "cell_type": "markdown",
   "metadata": {},
   "source": [
    "* `input_name` $\\in$ {'01_tuning_patch', '02_glas_full'}: the segmentation set to be solved\n",
    "* `input_size` $\\in$ [int > 0, int > 0]: the resized size of the input image\n",
    "* `input_mode` $\\in$ {'patch', 'wsi'}: the type of input image, either patch ('patch') or slide ('wsi'); only patches supported in public code release\n",
    "* `down_fac` $\\in$ 0 $\\leq$ float $\\leq$ 1: the scalar by which to downsample the input image to ensure equivalent pixel resolution (1.2143 um/px / input pixel resolution)\n",
    "* `batch_size` $\\in$ int > 0: batch size of input images\n",
    "* `htt_mode` $\\in$ {'both', 'morph', 'func', 'glas'}: the type of classes to segment from the images: both morphological and functional types ('both'), only morphological types ('morph'), only functional types ('func'), and glandular/non-glandular ('glas')\n",
    "* `gt_mode` $\\in$ {'on', 'off'}: whether to assess the segmentation against the ground-truth annotations, either 'on' or 'off'\n",
    "* `run_level` $\\in$ {1, 2, 3}: the final stage to run in HistoSegNet: the first stage/CNN confidence scores (1), the third stage/modified Grad-CAMs (2), or the fourth stage/dense CRF segmentation masks (3)\n",
    "* `save_types` $\\in$ [{0, 1}, {0, 1}, {0, 1}, {0, 1}]: the types of files to save for debugging, as a list of four binary values (0/1)\n",
    "  1. HTT confidence scores: save (1), do not save (0)\n",
    "  2. Continuous Grad-CAMs: save (1), do not save (0)\n",
    "  3. Discrete segmentation masks: save (1), do not save (0)\n",
    "  4. Summary images: save (1), do not save (0)\n",
    "* `verbosity` $\\in$ {'NORMAL', 'QUIET'}: the verbosity of debug messages, either on ('NORMAL') or off ('QUIET')"
   ]
  },
  {
   "cell_type": "code",
   "execution_count": null,
   "metadata": {},
   "outputs": [],
   "source": [
    "IN_PX_RESOL = 0.620 # um/px, for GlaS images\n",
    "OUT_PX_RESOL = 0.25 * 1088 / 224    # 1.21428571429 um/px, for ADP images (0.25 um/px at 224px)\n",
    "DOWNSAMPLE_FACTOR = OUT_PX_RESOL / IN_PX_RESOL\n",
    "\n",
    "hsn = hsn_v1.HistoSegNetV1(params={'input_name': '02_glas_full', 'input_size': [224, 224], \n",
    "                                   'input_mode': 'patch', 'down_fac': DOWNSAMPLE_FACTOR, \n",
    "                                   'batch_size': 1, 'htt_mode': 'glas', 'gt_mode': 'on', \n",
    "                                   'run_level': 3, 'save_types': [0, 0, 1, 0], \n",
    "                                   'verbosity': 'QUIET'})"
   ]
  },
  {
   "cell_type": "markdown",
   "metadata": {},
   "source": [
    "## Load images"
   ]
  },
  {
   "cell_type": "markdown",
   "metadata": {},
   "source": [
    "Load images from file"
   ]
  },
  {
   "cell_type": "code",
   "execution_count": null,
   "metadata": {},
   "outputs": [],
   "source": [
    "def filter_train(file):\n",
    "    if 'train' in file:\n",
    "        return False\n",
    "    else:\n",
    "        return True"
   ]
  },
  {
   "cell_type": "code",
   "execution_count": null,
   "metadata": {},
   "outputs": [],
   "source": [
    "hsn.find_img()\n",
    "hsn.input_files_all"
   ]
  },
  {
   "cell_type": "code",
   "execution_count": null,
   "metadata": {},
   "outputs": [],
   "source": [
    "test_files = list(filter(filter_train, hsn.input_files_all))\n",
    "hsn.input_files_all = test_files\n",
    "len(hsn.input_files_all)"
   ]
  },
  {
   "cell_type": "markdown",
   "metadata": {},
   "source": [
    "Obtain logarithmic inverse class frequencies"
   ]
  },
  {
   "cell_type": "code",
   "execution_count": null,
   "metadata": {},
   "outputs": [],
   "source": [
    "hsn.analyze_img()"
   ]
  },
  {
   "cell_type": "markdown",
   "metadata": {},
   "source": [
    "Display logarithmic inverse class frequencies for the glandular/non-glandular types"
   ]
  },
  {
   "cell_type": "code",
   "execution_count": null,
   "metadata": {},
   "outputs": [],
   "source": [
    "df = pd.DataFrame(data=hsn.httclass_loginvfreq[0], index=hsn.httclass_valid_classes[0], columns=np.array([hsn.htt_classes[0]]))\n",
    "df"
   ]
  },
  {
   "cell_type": "markdown",
   "metadata": {},
   "source": [
    "## Load CNN (ADP pre trained)"
   ]
  },
  {
   "cell_type": "code",
   "execution_count": null,
   "metadata": {},
   "outputs": [],
   "source": [
    "# hsn.load_histonet(params={'model_name': 'histonet_X1.7_clrdecay_5'})\n",
    "# hsn.load_histonet(params={'model_name': 'histonet_glas'})\n",
    "# hsn.load_histonet(params={'model_name': 'histonet_glas_ft'})\n",
    "# hsn.load_histonet(params={'model_name': 'histonet_glas_holdout'})\n",
    "hsn.load_histonet(params={'model_name': 'histonet_glas_holdout_ft'})\n",
    "\n",
    "print(hsn.hn.model.summary())"
   ]
  },
  {
   "cell_type": "markdown",
   "metadata": {},
   "source": [
    "Print the loaded class score thresholds"
   ]
  },
  {
   "cell_type": "code",
   "execution_count": null,
   "metadata": {},
   "outputs": [],
   "source": [
    "df = pd.DataFrame(data=hsn.hn.thresholds[0], index=hsn.atlas.level5)\n",
    "df"
   ]
  },
  {
   "cell_type": "markdown",
   "metadata": {},
   "source": [
    "## Run all batches"
   ]
  },
  {
   "cell_type": "code",
   "execution_count": null,
   "metadata": {},
   "outputs": [],
   "source": [
    "confscores = np.zeros((len(hsn.input_files_all), len(hsn.hn.class_names)))\n",
    "iou = {}\n",
    "fiou = {}\n",
    "miou = {}\n",
    "dice = {}\n",
    "mdice = {}\n",
    "num_batches = (len(hsn.input_files_all) + hsn.batch_size - 1) // hsn.batch_size\n",
    "\n",
    "for iter_batch in tqdm(range(num_batches)):\n",
    "    start = iter_batch * hsn.batch_size\n",
    "    end = min((iter_batch + 1) * hsn.batch_size, len(hsn.input_files_all))\n",
    "    hsn.input_files_batch = hsn.input_files_all[start:end]\n",
    "    # Normalize image batch\n",
    "    hsn.load_norm_imgs()\n",
    "    # Load ground-truth annotations\n",
    "    hsn.load_gt()\n",
    "    # Segment image\n",
    "    hsn.segment_img()\n",
    "    # Evaluate segmentation\n",
    "    iou['GradCAM'], fiou['GradCAM'], miou['GradCAM'], dice['GradCAM'], mdice['GradCAM'] = hsn.eval_segmentation(hsn.intersect_counts['GradCAM'], hsn.union_counts['GradCAM'],\n",
    "                                                                             hsn.confusion_matrix['GradCAM'], hsn.gt_counts['GradCAM'],\n",
    "                                                                             httclass_pred_segmasks=hsn.ablative_segmasks['GradCAM'], tag_name='GradCAM')\n",
    "    iou['Adjust'], fiou['Adjust'], miou['Adjust'], dice['Adjust'], mdice['Adjust'] = hsn.eval_segmentation(hsn.intersect_counts['Adjust'], hsn.union_counts['Adjust'],\n",
    "                                                                          hsn.confusion_matrix['Adjust'], hsn.gt_counts['Adjust'],\n",
    "                                                                          httclass_pred_segmasks=hsn.ablative_segmasks['Adjust'], tag_name='Adjust')\n",
    "    iou['CRF'], fiou['CRF'], miou['CRF'], dice['CRF'], mdice['CRF'] = hsn.eval_segmentation(hsn.intersect_counts['CRF'], hsn.union_counts['CRF'],\n",
    "                                                                 hsn.confusion_matrix['CRF'], hsn.gt_counts['CRF'],\n",
    "                                                                 httclass_pred_segmasks=hsn.ablative_segmasks['CRF'], tag_name='CRF')"
   ]
  },
  {
   "cell_type": "code",
   "execution_count": null,
   "metadata": {
    "scrolled": true
   },
   "outputs": [],
   "source": [
    "dice"
   ]
  },
  {
   "cell_type": "code",
   "execution_count": null,
   "metadata": {},
   "outputs": [],
   "source": [
    "mdice"
   ]
  },
  {
   "cell_type": "markdown",
   "metadata": {},
   "source": [
    "## Qualitative performance"
   ]
  },
  {
   "cell_type": "markdown",
   "metadata": {},
   "source": [
    "### Original images and Ground-truth annotations"
   ]
  },
  {
   "cell_type": "markdown",
   "metadata": {},
   "source": [
    "Display original image, morphological ground truth, and functional ground truth annotations"
   ]
  },
  {
   "cell_type": "code",
   "execution_count": null,
   "metadata": {},
   "outputs": [],
   "source": [
    "plt.figure\n",
    "plt.subplot(121)\n",
    "plt.imshow(hsn.input_images[0].astype('uint8'))\n",
    "plt.title('Original image')\n",
    "plt.subplot(122)\n",
    "plt.imshow(hsn.httclass_gt_segmasks[0][0].astype('uint8'))\n",
    "plt.title('Glandular/Non-glandular\\n ground truth')"
   ]
  },
  {
   "cell_type": "markdown",
   "metadata": {},
   "source": [
    "### Predicted segmentations, stage-by-stage"
   ]
  },
  {
   "cell_type": "markdown",
   "metadata": {},
   "source": [
    "Display the predicted segmentations after Stages 2, 3, and 4 for a sample image, for the glandular/non-glandular types"
   ]
  },
  {
   "cell_type": "code",
   "execution_count": null,
   "metadata": {},
   "outputs": [],
   "source": [
    "# plt.figure\n",
    "# plt.subplot(131)\n",
    "# plt.imshow(hsn.ablative_segmasks['GradCAM'][0][0])\n",
    "# plt.title('(2) Pixel-level\\n Segmentation\\n(glandular/non-glandular)')\n",
    "# plt.subplot(132)\n",
    "# plt.imshow(hsn.ablative_segmasks['Adjust'][0][0])\n",
    "# plt.title('(3) Inter-HTT\\n Adjustments\\n(glandular/non-glandular)')\n",
    "# plt.subplot(133)\n",
    "plt.imshow(hsn.ablative_segmasks['CRF'][0][0])\n",
    "plt.title('(4) Segmentation\\n Post-Processing\\n(glandular/non-glandular)')"
   ]
  },
  {
   "cell_type": "markdown",
   "metadata": {},
   "source": [
    "## Quantitative performance"
   ]
  },
  {
   "cell_type": "markdown",
   "metadata": {},
   "source": [
    "### Glandular/Non-glandular types"
   ]
  },
  {
   "cell_type": "markdown",
   "metadata": {},
   "source": [
    "Class IoU"
   ]
  },
  {
   "cell_type": "code",
   "execution_count": null,
   "metadata": {
    "scrolled": true
   },
   "outputs": [],
   "source": [
    "df = pd.DataFrame(data=iou['CRF'][0], index=hsn.httclass_valid_classes[0], columns=np.array(['IoU']))\n",
    "df.plot.bar(y='IoU')"
   ]
  },
  {
   "cell_type": "markdown",
   "metadata": {},
   "source": [
    "Frequency-weighted IoU"
   ]
  },
  {
   "cell_type": "code",
   "execution_count": null,
   "metadata": {},
   "outputs": [],
   "source": [
    "fiou['CRF'][0]"
   ]
  },
  {
   "cell_type": "markdown",
   "metadata": {},
   "source": [
    "Mean IoU"
   ]
  },
  {
   "cell_type": "code",
   "execution_count": null,
   "metadata": {},
   "outputs": [],
   "source": [
    "miou['CRF'][0]"
   ]
  },
  {
   "cell_type": "code",
   "execution_count": null,
   "metadata": {},
   "outputs": [],
   "source": []
  }
 ],
 "metadata": {
  "kernelspec": {
   "display_name": "Python 3",
   "language": "python",
   "name": "python3"
  },
  "language_info": {
   "codemirror_mode": {
    "name": "ipython",
    "version": 3
   },
   "file_extension": ".py",
   "mimetype": "text/x-python",
   "name": "python",
   "nbconvert_exporter": "python",
   "pygments_lexer": "ipython3",
   "version": "3.5.6"
  }
 },
 "nbformat": 4,
 "nbformat_minor": 2
}
